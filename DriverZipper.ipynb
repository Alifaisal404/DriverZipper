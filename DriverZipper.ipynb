{
  "nbformat": 4,
  "nbformat_minor": 0,
  "metadata": {
    "colab": {
      "provenance": [],
      "authorship_tag": "ABX9TyOIuq++PhtU6kp+P+Afx/kv",
      "include_colab_link": true
    },
    "kernelspec": {
      "name": "python3",
      "display_name": "Python 3"
    },
    "language_info": {
      "name": "python"
    }
  },
  "cells": [
    {
      "cell_type": "markdown",
      "metadata": {
        "id": "view-in-github",
        "colab_type": "text"
      },
      "source": [
        "<a href=\"https://colab.research.google.com/github/Alifaisal404/DriverZipper/blob/main/DriverZipper.ipynb\" target=\"_parent\"><img src=\"https://colab.research.google.com/assets/colab-badge.svg\" alt=\"Open In Colab\"/></a>"
      ]
    },
    {
      "cell_type": "code",
      "execution_count": null,
      "metadata": {
        "id": "3giWbO1N6vpV"
      },
      "outputs": [],
      "source": [
        "!sudo apt-get install p7zip-full\n",
        "\n",
        "import os\n",
        "\n",
        "sourcePath = \"/content/drive/MyDrive/GDToT\" #@param {type:\"string\"}\n",
        "zipFileName =  \"\" #@param {type:\"string\"}\n",
        "if zipFileName.strip() == \"\":\n",
        "    zipFileName = sourceName\n",
        "compressType = \"zip\"\n",
        "Password = \"\" #@param {type:\"string\"}\n",
        "\n",
        "#Put like 100m (for MB) or 1g (for GB) or no (if you don't want split\n",
        "Split = \"no\" #@param [\"no\", \"10m\", \"100m\", \"500m\", \"1g\", \"2g\"] {allow-input: true}\n",
        "compressLevel = 0 #@param {type:\"slider\", min:0, max:9, step:1}\n",
        "saveToSourceLocation = True\n",
        "\n",
        "commandLine = \"-t\" + compressType + \" -mx=\" + str(compressLevel)\n",
        "\n",
        "if len(Password) > 0:\n",
        "    commandLine = commandLine + \" -p\" + '\"' + Password + '\"'\n",
        "\n",
        "if Split != \"no\":\n",
        "    commandLine = commandLine + \" -v\" + '\"' + Split + '\"'\n",
        "\n",
        "if os.path.isfile(sourcePath) is True:\n",
        "    sourceName = os.path.splitext(os.path.basename(os.path.abspath(sourcePath)))[0]\n",
        "    sourceFolder = os.path.dirname(os.path.abspath(sourcePath))\n",
        "else:\n",
        "    sourceName = os.path.split(os.path.abspath(sourcePath))[1]\n",
        "    sourceFolder = os.path.split(os.path.abspath(sourcePath))[0]\n",
        "\n",
        "if saveToSourceLocation == True:\n",
        "    compressPath = os.path.join(sourceFolder, \"compressed\")\n",
        "    commandLine = commandLine + ' \"' + compressPath + '\"'\n",
        "else:\n",
        "    outputPath = input(\"outputPath: \")\n",
        "    if outputPath.endswith('.zip') or outputPath.endswith('.7z') or outputPath.endswith('.tar') or outputPath.endswith('.gz') or outputPath.endswith('.bz2') or outputPath.endswith('.xz') or outputPath.endswith('.wim'):\n",
        "        sourceName = os.path.splitext(os.path.basename(os.path.abspath(outputPath)))[0]\n",
        "        sourceFolder = os.path.dirname(os.path.abspath(outputPath))\n",
        "    else:\n",
        "        if os.path.exists(outputPath) is False:\n",
        "            os.makedirs(outputPath)\n",
        "        sourceFolder = outputPath\n",
        "    compressPath = os.path.join(sourceFolder, \"compressed\")\n",
        "    commandLine = commandLine + ' \"' + compressPath + '\"'\n",
        "\n",
        "if compressType == \"gzip\":\n",
        "    formatFile = \"gz\"\n",
        "elif compressType == \"bzip2\":\n",
        "    formatFile = \"bz2\"\n",
        "else:\n",
        "    formatFile = compressType\n",
        "\n",
        "\n",
        "!7z a {commandLine} \"{sourcePath}\"\n",
        "saveFile = os.path.join(sourceFolder, zipFileName)\n",
        "compressPath = compressPath + '.' + formatFile\n",
        "saveFile = saveFile + '.' + formatFile\n",
        "os.rename(compressPath, saveFile)"
      ]
    }
  ]
}